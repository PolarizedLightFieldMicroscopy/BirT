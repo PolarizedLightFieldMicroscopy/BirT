{
 "cells": [
  {
   "cell_type": "markdown",
   "metadata": {},
   "source": [
    "# Rotation matrix"
   ]
  },
  {
   "cell_type": "code",
   "execution_count": 1,
   "metadata": {},
   "outputs": [],
   "source": [
    "from math import sqrt, cos, sin, acos\n",
    "\n",
    "def unit_axis_angle(a, b):\n",
    "    an = sqrt(a[0]*a[0] + a[1]*a[1] + a[2]*a[2])\n",
    "    bn = sqrt(b[0]*b[0] + b[1]*b[1] + b[2]*b[2])\n",
    "    ax, ay, az = a[0]/an, a[1]/an, a[2]/an\n",
    "    bx, by, bz = b[0]/bn, b[1]/bn, b[2]/bn\n",
    "    nx, ny, nz = ay*bz-az*by, az*bx-ax*bz, ax*by-ay*bx\n",
    "    nn = sqrt(nx*nx + ny*ny + nz*nz)\n",
    "    return (nx/nn, ny/nn, nz/nn), acos(ax*bx + ay*by + az*bz)\n",
    "\n",
    "def rotation_matrix(axis, angle):\n",
    "    ax, ay, az = axis[0], axis[1], axis[2]\n",
    "    s = sin(angle)\n",
    "    c = cos(angle)\n",
    "    u = 1 - c\n",
    "    return ( ( ax*ax*u + c,    ax*ay*u - az*s, ax*az*u + ay*s ),\n",
    "             ( ay*ax*u + az*s, ay*ay*u + c,    ay*az*u - ax*s ),\n",
    "             ( az*ax*u - ay*s, az*ay*u + ax*s, az*az*u + c    ) )\n",
    "\n",
    "def multiply(matrix, vector):\n",
    "    return ( matrix[0][0]*vector[0] + matrix[0][1]*vector[1] + matrix[0][2]*vector[2],\n",
    "             matrix[1][0]*vector[0] + matrix[1][1]*vector[1] + matrix[1][2]*vector[2],\n",
    "             matrix[2][0]*vector[0] + matrix[2][1]*vector[1] + matrix[2][2]*vector[2] )"
   ]
  },
  {
   "cell_type": "markdown",
   "metadata": {},
   "source": [
    "## Unit test with random vectors"
   ]
  },
  {
   "cell_type": "code",
   "execution_count": 2,
   "metadata": {},
   "outputs": [
    {
     "name": "stdout",
     "output_type": "stream",
     "text": [
      "a = ( 1.827672, -3.658475,  0.465904)\n",
      "b = (-1.912753,  0.410257,  3.621458)\n",
      "c = (-1.912753,  0.410257,  3.621458)\n"
     ]
    }
   ],
   "source": [
    "from random import Random\n",
    "rng = Random()\n",
    "\n",
    "a = (rng.uniform(-5,5), rng.uniform(-5,5), rng.uniform(-5,5))\n",
    "b = (rng.uniform(-5,5), rng.uniform(-5,5), rng.uniform(-5,5))\n",
    "\n",
    "# Making b the same length as vector a\n",
    "s = sqrt((a[0]*a[0] + a[1]*a[1] + a[2]*a[2]) / (b[0]*b[0] + b[1]*b[1] + b[2]*b[2]))\n",
    "b = (b[0]*s, b[1]*s, b[2]*s)\n",
    "\n",
    "axis, angle = unit_axis_angle(a, b)\n",
    "\n",
    "# Check if the axis and angle found are correct\n",
    "c = multiply(rotation_matrix(axis, angle), a)\n",
    "print(\"a = (%9.6f, %9.6f, %9.6f)\" % a)\n",
    "print(\"b = (%9.6f, %9.6f, %9.6f)\" % b)\n",
    "print(\"c = (%9.6f, %9.6f, %9.6f)\" % c)"
   ]
  },
  {
   "cell_type": "markdown",
   "metadata": {},
   "source": [
    "## General form of rotation matrices"
   ]
  },
  {
   "cell_type": "code",
   "execution_count": 2,
   "metadata": {},
   "outputs": [],
   "source": [
    "import numpy as np\n",
    "\n",
    "# 2D rotation matrix by 30 degrees\n",
    "theta = np.radians(30)\n",
    "c, s = np.cos(theta), np.sin(theta)\n",
    "R = np.array(((c, -s), (s, c)))"
   ]
  },
  {
   "cell_type": "code",
   "execution_count": 3,
   "metadata": {},
   "outputs": [],
   "source": [
    "def rotate(X, theta, axis='x'):\n",
    "  '''Rotate multidimensional array `X` `theta` degrees around axis `axis`'''\n",
    "  c, s = np.cos(theta), np.sin(theta)\n",
    "  if axis == 'x': return np.dot(X, np.array([\n",
    "    [1.,  0,  0],\n",
    "    [0 ,  c, -s],\n",
    "    [0 ,  s,  c]\n",
    "  ]))\n",
    "  elif axis == 'y': return np.dot(X, np.array([\n",
    "    [c,  0,  -s],\n",
    "    [0,  1,   0],\n",
    "    [s,  0,   c]\n",
    "  ]))\n",
    "  elif axis == 'z': return np.dot(X, np.array([\n",
    "    [c, -s,  0 ],\n",
    "    [s,  c,  0 ],\n",
    "    [0,  0,  1.],\n",
    "  ]))"
   ]
  },
  {
   "cell_type": "markdown",
   "metadata": {},
   "source": [
    "## Verifying my method of rotations"
   ]
  },
  {
   "cell_type": "code",
   "execution_count": null,
   "metadata": {},
   "outputs": [],
   "source": [
    "from math import sqrt, cos, sin, acos\n",
    "\n",
    "def unit_axis_angle(a, b):\n",
    "    an = sqrt(a[0]*a[0] + a[1]*a[1] + a[2]*a[2])\n",
    "    bn = sqrt(b[0]*b[0] + b[1]*b[1] + b[2]*b[2])\n",
    "    ax, ay, az = a[0]/an, a[1]/an, a[2]/an\n",
    "    bx, by, bz = b[0]/bn, b[1]/bn, b[2]/bn\n",
    "    nx, ny, nz = ay*bz-az*by, az*bx-ax*bz, ax*by-ay*bx\n",
    "    nn = sqrt(nx*nx + ny*ny + nz*nz)\n",
    "    return (nx/nn, ny/nn, nz/nn), acos(ax*bx + ay*by + az*bz)\n",
    "\n",
    "from random import Random\n",
    "rng = Random()\n",
    "a = (rng.uniform(-5,5), rng.uniform(-5,5), rng.uniform(-5,5))\n",
    "ray = a / np.linalg.norm(a)\n",
    "print(unit_axis_angle(ray, [1,0,0]))\n",
    "theta = np.arccos(np.dot(ray, np.array([1,0,0])))\n",
    "normal_vec = np.cross(ray, [1,0,0]) / np.linalg.norm(np.cross(ray, [1,0,0]))\n",
    "print(normal_vec, theta)"
   ]
  }
 ],
 "metadata": {
  "kernelspec": {
   "display_name": "Python 3.9.7 ('base')",
   "language": "python",
   "name": "python3"
  },
  "language_info": {
   "codemirror_mode": {
    "name": "ipython",
    "version": 3
   },
   "file_extension": ".py",
   "mimetype": "text/x-python",
   "name": "python",
   "nbconvert_exporter": "python",
   "pygments_lexer": "ipython3",
   "version": "3.9.7"
  },
  "orig_nbformat": 4,
  "vscode": {
   "interpreter": {
    "hash": "adf6e16edf1b77d6b92309181b1c4cc70ded90e5e0b47511b11f07b7b421dafb"
   }
  }
 },
 "nbformat": 4,
 "nbformat_minor": 2
}
