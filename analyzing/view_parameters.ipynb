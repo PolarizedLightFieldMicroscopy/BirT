{
 "cells": [
  {
   "cell_type": "code",
   "execution_count": 3,
   "metadata": {},
   "outputs": [],
   "source": [
    "import torch"
   ]
  },
  {
   "cell_type": "code",
   "execution_count": 1,
   "metadata": {},
   "outputs": [],
   "source": [
    "output_dir = \"reconstructions/shell_11x51x51_shift-1_reg-1\""
   ]
  },
  {
   "cell_type": "code",
   "execution_count": 4,
   "metadata": {},
   "outputs": [],
   "source": [
    "file_path = f'{output_dir}/parameters.pt'\n",
    "data = torch.load(file_path)"
   ]
  },
  {
   "cell_type": "code",
   "execution_count": 5,
   "metadata": {},
   "outputs": [
    {
     "name": "stdout",
     "output_type": "stream",
     "text": [
      "Optical Info: {'volume_shape': [11, 51, 51], 'axial_voxel_size_um': 1.0, 'cube_voxels': True, 'pixels_per_ml': 17, 'n_micro_lenses': 25, 'n_voxels_per_ml': 1, 'M_obj': 60, 'na_obj': 1.2, 'n_medium': 1.35, 'wavelength': 0.55, 'camera_pix_pitch': 6.5, 'polarizer': array([[1, 0],\n",
      "       [0, 1]]), 'analyzer': array([[1, 0],\n",
      "       [0, 1]]), 'polarizer_swing': 0.03, 'voxel_size_um': [1.8416666666666666, 1.8416666666666666, 1.8416666666666666]}\n",
      "Training Params: {'n_epochs': 201, 'azimuth_weight': 0.5, 'regularization_weight': 0.1, 'lr': 0.001, 'output_posfix': 'shift-1_reg-1'}\n",
      "Volume Type: shell\n"
     ]
    }
   ],
   "source": [
    "optical_info = data['optical_info']\n",
    "training_params = data['training_params']\n",
    "volume_type = data['volume_type']\n",
    "\n",
    "print(\"Optical Info:\", optical_info)\n",
    "print(\"Training Params:\", training_params)\n",
    "print(\"Volume Type:\", volume_type)"
   ]
  },
  {
   "cell_type": "code",
   "execution_count": null,
   "metadata": {},
   "outputs": [],
   "source": []
  }
 ],
 "metadata": {
  "kernelspec": {
   "display_name": "model",
   "language": "python",
   "name": "python3"
  },
  "language_info": {
   "codemirror_mode": {
    "name": "ipython",
    "version": 3
   },
   "file_extension": ".py",
   "mimetype": "text/x-python",
   "name": "python",
   "nbconvert_exporter": "python",
   "pygments_lexer": "ipython3",
   "version": "3.10.12"
  }
 },
 "nbformat": 4,
 "nbformat_minor": 2
}
