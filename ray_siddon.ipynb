{
 "cells": [
  {
   "cell_type": "markdown",
   "metadata": {},
   "source": [
    "# Testing and experimenting with Siddon alg"
   ]
  },
  {
   "cell_type": "code",
   "execution_count": 12,
   "metadata": {},
   "outputs": [],
   "source": [
    "from math import floor, ceil, sqrt\n",
    "\n",
    "def raytrace2(x1, y1, z1, x2, y2, z2, dx, dy, dz, pix_numx, pix_numy, pix_numz):\n",
    "\n",
    "    #first, compute starting and ending parametric values in each dimension\n",
    "    if (x2 - x1) != 0:\n",
    "        ax_0 = -x1/(x2 - x1)\n",
    "        ax_N = (pix_numx*dx - x1)/(x2 - x1)\n",
    "    else:\n",
    "        ax_0 = 0\n",
    "        ax_N = 1\n",
    "    if (y2 - y1) != 0:\n",
    "        ay_0 = -y1/(y2 - y1)\n",
    "        ay_N = (pix_numy*dy - y1)/(y2 - y1)\n",
    "    else:\n",
    "        ay_0 = 0\n",
    "        ay_N = 1\n",
    "    if (z2 - z1) != 0:\n",
    "        az_0 = -z1/(z2 - z1)\n",
    "        az_N = (pix_numz - z1)/(z2 - z1)\n",
    "    else:\n",
    "        az_0 = 0\n",
    "        az_N = 1\n",
    "        \n",
    "    #then calculate absolute max and min parametric values\n",
    "    a_min = max(0, min(ax_0, ax_N), min(ay_0, ay_N), min(az_0, az_N))\n",
    "    a_max = min(1, max(ax_0, ax_N), max(ay_0, ay_N), max(az_0, az_N))\n",
    "\n",
    "    #now find range of indices corresponding to max/min a values\n",
    "    if (x2 - x1) >= 0:\n",
    "        i_min = ceil(pix_numx - (pix_numx*dx - a_min*(x2 - x1) - x1)/dx)\n",
    "        i_max = floor((x1 + a_max*(x2 - x1))/dx)\n",
    "    elif (x2 - x1) < 0:\n",
    "        i_min = ceil(pix_numx - (pix_numx*dx - a_max*(x2 - x1) - x1)/dx)\n",
    "        i_max = floor((x1 + a_min*(x2 - x1))/dx)\n",
    "\n",
    "    if (y2 - y1) >= 0:\n",
    "        j_min = ceil(pix_numy - (pix_numy*dy - a_min*(y2 - y1) - y1)/dy)\n",
    "        j_max = floor((y1 + a_max*(y2 - y1))/dy)\n",
    "    elif (y2 - y1) < 0:\n",
    "        j_min = ceil(pix_numy - (pix_numy*dy - a_max*(y2 - y1) - y1)/dy)\n",
    "        j_max = floor((y1 + a_min*(y2 - y1))/dy)\n",
    "    \n",
    "    if (z2 - z1) >= 0:\n",
    "        k_min = ceil(pix_numz - (pix_numz*dz - a_min*(z2 - z1) - z1)/dz)\n",
    "        k_max = floor((z1 + a_max*(z2 - z1))/dz)\n",
    "    elif (z2 - z1) < 0:\n",
    "        k_min = ceil(pix_numz - (pix_numz*dz - a_max*(z2 - z1) - z1)/dz)\n",
    "        k_max = floor((z1 + a_min*(z2 - z1))/dz)\n",
    "\n",
    "    #next calculate the list of parametric values for each coordinate\n",
    "    a_x = []\n",
    "    if (x2 - x1) > 0:\n",
    "        for i in range(i_min, i_max):\n",
    "            a_x.append((i*dx - x1)/(x2 - x1))\n",
    "    elif (x2 - x1) < 0:\n",
    "        for i in range(i_min, i_max):\n",
    "            a_x.insert(0, (i*dx - x1)/(x2 - x1))\n",
    "\n",
    "    a_y = []\n",
    "    if (y2 - y1) > 0:\n",
    "        for j in range(j_min, j_max):\n",
    "            a_y.append((j*dy - y1)/(y2 - y1))\n",
    "    elif (y2 - y1) < 0:\n",
    "        for j in range(j_min, j_max):\n",
    "            a_y.insert(0, (j*dy - y1)/(y2 - y1))\n",
    "\n",
    "    a_z = []\n",
    "    if (z2 - z1) > 0:\n",
    "        for k in range(k_min, k_max):\n",
    "            a_z.append((k*dz - z1)/(z2 - z1))\n",
    "    elif (z2 - z1) < 0:\n",
    "        for k in range(k_min, k_max):\n",
    "            a_z.insert(0, (k*dz - z1)/(z2 - z1))\n",
    "\n",
    "    #finally, form the list of parametric values\n",
    "    a_list = [a_min] + a_x + a_y + a_z + [a_max]\n",
    "    a_list = list(set(a_list))\n",
    "    a_list.sort()\n",
    "    return a_list\n",
    "\n",
    "def calc_midpoints(x1, y1, z1, x2, y2, z2, a_list):\n",
    "    '''Calculates the midpoints of the ray sections that intersect each voxel'''\n",
    "    # loop though, computing midpoints for each adjacent pair of a values for chosen coord\n",
    "    i_mid = []\n",
    "    for m in range(1, len(a_list)):\n",
    "        x = .5 * (a_list[m] + a_list[m - 1]) * (x2 - x1) + x1\n",
    "        y = .5 * (a_list[m] + a_list[m - 1]) * (y2 - y1) + y1\n",
    "        z = .5 * (a_list[m] + a_list[m - 1]) * (z2 - z1) + z1\n",
    "        i_mid.append((x, y, z))\n",
    "    return i_mid\n",
    "\n",
    "def intersect_length(x1, y1, z1, x2, y2, z2, a_list):\n",
    "    # find length of intersection by multiplying difference in parametric values by total ray length\n",
    "    lengths = []\n",
    "    for m in range(1, len(a_list)):\n",
    "        lengths.append(sqrt((x2 - x1) ** 2 + (y2 - y1) ** 2 + (z2 - z1) ** 2) * (a_list[m] - a_list[m - 1]))\n",
    "    return lengths"
   ]
  },
  {
   "cell_type": "code",
   "execution_count": 2,
   "metadata": {},
   "outputs": [
    {
     "name": "stdout",
     "output_type": "stream",
     "text": [
      "Midpoints: [(0.225, 0.05, 0.05), (0.275, 0.15, 0.15), (0.3, 0.2, 0.2), (0.325, 0.25, 0.25), (0.375, 0.35, 0.35), (0.4, 0.4, 0.4), (0.425, 0.45, 0.45), (0.475, 0.55, 0.55), (0.525, 0.65, 0.65), (0.575, 0.75, 0.75), (0.625, 0.85, 0.85), (0.675, 0.95, 0.95)]\n",
      "Lengths: [0.15, 0.15, 0.0, 0.15, 0.15, 0.0, 0.15, 0.15, 0.15, 0.15, 0.15, 0.15]\n",
      "12\n"
     ]
    }
   ],
   "source": [
    "# Assemble arguments\n",
    "x1, y1, z1 = 0.2, 0, 0\n",
    "x2, y2, z2 =0.7, 1, 1\n",
    "dx, dy, dz = 0.1, 0.1, 0.1\n",
    "nx, ny, nz = 10, 10, 10\n",
    "args = (x1, y1, z1, x2, y2, z2, dx, dy, dz, 0, nx, 0, ny, 0, nz)\n",
    "args2 = (x1, y1, z1, x2, y2, z2, dx, dy, dz, nx, ny, nz)\n",
    "\n",
    "# Test Siddon\n",
    "# a_list = raytrace(*args)\n",
    "a_list = raytrace2(*args2)\n",
    "midpoints = calc_midpoints(*(list(args[:6])+[a_list]))\n",
    "lengths = intersect_length(*(list(args[:6])+[a_list]))\n",
    "print('Midpoints: ' + str([(round(x[0], 3), round(x[1], 3), round(x[2], 3)) for x in midpoints]))\n",
    "print('Lengths: ' + str([round(x, 3) for x in lengths]))\n",
    "print(len(midpoints))"
   ]
  },
  {
   "cell_type": "code",
   "execution_count": 14,
   "metadata": {},
   "outputs": [],
   "source": [
    "from math import floor, ceil, sqrt\n",
    "def siddon_params(start, stop, vox_pitch, vox_count):\n",
    "    x1, y1, z1 = start\n",
    "    x2, y2, z2 = stop\n",
    "    dx, dy, dz = vox_pitch\n",
    "    pix_numx, pix_numy, pix_numz = vox_count\n",
    "\n",
    "    #first, compute starting and ending parametric values in each dimension\n",
    "    if (x2 - x1) != 0:\n",
    "        ax_0 = -x1/(x2 - x1)\n",
    "        ax_N = (pix_numx*dx - x1)/(x2 - x1)\n",
    "    else:\n",
    "        ax_0 = 0\n",
    "        ax_N = 1\n",
    "    if (y2 - y1) != 0:\n",
    "        ay_0 = -y1/(y2 - y1)\n",
    "        ay_N = (pix_numy*dy - y1)/(y2 - y1)\n",
    "    else:\n",
    "        ay_0 = 0\n",
    "        ay_N = 1\n",
    "    if (z2 - z1) != 0:\n",
    "        az_0 = -z1/(z2 - z1)\n",
    "        az_N = (pix_numz - z1)/(z2 - z1)\n",
    "    else:\n",
    "        az_0 = 0\n",
    "        az_N = 1\n",
    "        \n",
    "    #then calculate absolute max and min parametric values\n",
    "    a_min = max(0, min(ax_0, ax_N), min(ay_0, ay_N), min(az_0, az_N))\n",
    "    a_max = min(1, max(ax_0, ax_N), max(ay_0, ay_N), max(az_0, az_N))\n",
    "\n",
    "    #now find range of indices corresponding to max/min a values\n",
    "    if (x2 - x1) >= 0:\n",
    "        i_min = ceil(pix_numx - (pix_numx*dx - a_min*(x2 - x1) - x1)/dx)\n",
    "        i_max = floor((x1 + a_max*(x2 - x1))/dx)\n",
    "    elif (x2 - x1) < 0:\n",
    "        i_min = ceil(pix_numx - (pix_numx*dx - a_max*(x2 - x1) - x1)/dx)\n",
    "        i_max = floor((x1 + a_min*(x2 - x1))/dx)\n",
    "\n",
    "    if (y2 - y1) >= 0:\n",
    "        j_min = ceil(pix_numy - (pix_numy*dy - a_min*(y2 - y1) - y1)/dy)\n",
    "        j_max = floor((y1 + a_max*(y2 - y1))/dy)\n",
    "    elif (y2 - y1) < 0:\n",
    "        j_min = ceil(pix_numy - (pix_numy*dy - a_max*(y2 - y1) - y1)/dy)\n",
    "        j_max = floor((y1 + a_min*(y2 - y1))/dy)\n",
    "    \n",
    "    if (z2 - z1) >= 0:\n",
    "        k_min = ceil(pix_numz - (pix_numz*dz - a_min*(z2 - z1) - z1)/dz)\n",
    "        k_max = floor((z1 + a_max*(z2 - z1))/dz)\n",
    "    elif (z2 - z1) < 0:\n",
    "        k_min = ceil(pix_numz - (pix_numz*dz - a_max*(z2 - z1) - z1)/dz)\n",
    "        k_max = floor((z1 + a_min*(z2 - z1))/dz)\n",
    "\n",
    "    #next calculate the list of parametric values for each coordinate\n",
    "    a_x = []\n",
    "    if (x2 - x1) > 0:\n",
    "        for i in range(i_min, i_max):\n",
    "            a_x.append((i*dx - x1)/(x2 - x1))\n",
    "    elif (x2 - x1) < 0:\n",
    "        for i in range(i_min, i_max):\n",
    "            a_x.insert(0, (i*dx - x1)/(x2 - x1))\n",
    "\n",
    "    a_y = []\n",
    "    if (y2 - y1) > 0:\n",
    "        for j in range(j_min, j_max):\n",
    "            a_y.append((j*dy - y1)/(y2 - y1))\n",
    "    elif (y2 - y1) < 0:\n",
    "        for j in range(j_min, j_max):\n",
    "            a_y.insert(0, (j*dy - y1)/(y2 - y1))\n",
    "\n",
    "    a_z = []\n",
    "    if (z2 - z1) > 0:\n",
    "        for k in range(k_min, k_max):\n",
    "            a_z.append((k*dz - z1)/(z2 - z1))\n",
    "    elif (z2 - z1) < 0:\n",
    "        for k in range(k_min, k_max):\n",
    "            a_z.insert(0, (k*dz - z1)/(z2 - z1))\n",
    "\n",
    "    #finally, form the list of parametric values\n",
    "    a_list = [a_min] + a_x + a_y + a_z + [a_max]\n",
    "    a_list = list(set(a_list))\n",
    "    a_list.sort()\n",
    "    return a_list\n",
    "\n",
    "def siddon_midpoints(start, stop, a_list):\n",
    "    '''Calculates the midpoints of the ray sections that intersect each voxel'''\n",
    "    ray_mid = 0.5 * (stop - start)\n",
    "    # loop though, computing midpoints for each adjacent pair of a values for chosen coord\n",
    "    i_mid = []\n",
    "    for m in range(1, len(a_list)):\n",
    "        (x, y, z) = (a_list[m] + a_list[m - 1]) * ray_mid\n",
    "        i_mid.append((x, y, z))\n",
    "    return i_mid\n",
    "\n",
    "def new_siddon_midpoints(start, stop, a_list):\n",
    "    '''Calculates the midpoints of the ray sections that intersect each voxel'''\n",
    "    ray_mid = 0.5 * (stop - start)\n",
    "    # loop though, computing midpoints for each adjacent pair of a values for chosen coord\n",
    "    i_mid = []\n",
    "    for m in range(1, len(a_list)):\n",
    "        # find halfway between params\n",
    "        i_mid_param = (0.5 * (a_list[m] - a_list[m - 1]) + a_list[m - 1])\n",
    "        (x, y, z) = i_mid_param * (stop - start) + start\n",
    "        # print(f\"new: with param {i_mid_param}, coord is {(x, y, z)}\")\n",
    "        (xold, yold, zold) = (a_list[m] + a_list[m - 1]) * ray_mid\n",
    "        # print(f\"old: {(xold, yold, zold)}\")\n",
    "        # print(f\"a_list[m] + a_list[m - 1] = {a_list[m] + a_list[m - 1]} for m = {m}\")\n",
    "        # print(f\"Difference is {np.array((x, y, z)) - np.array((xold, yold, zold))}\")\n",
    "        i_mid.append((x, y, z))\n",
    "    return i_mid\n",
    "\n",
    "def vol_indices(midpoints, vox_pitch):\n",
    "    '''Identifies the voxels for which the midpoints belong\n",
    "        - shifts down by 0.5, then rounds to nearest integer'''\n",
    "    dx, dy, dz = vox_pitch\n",
    "    i_mid = []\n",
    "    for (x,y,z) in midpoints:\n",
    "        x_ix = round((x-0.5*dx)/dx)\n",
    "        y_ix = round((y-0.5*dy)/dy)\n",
    "        z_ix = round((z-0.5*dz)/dz)\n",
    "        i_mid.append((x_ix,y_ix,z_ix))\n",
    "    return i_mid\n",
    "\n",
    "def siddon_lengths(start, stop, a_list):\n",
    "    # find length of intersection by multiplying difference in parametric values by total ray length\n",
    "    entire_length = np.linalg.norm(stop - start)\n",
    "    lengths = []\n",
    "    for m in range(1, len(a_list)):\n",
    "        lengths.append(entire_length * (a_list[m] - a_list[m - 1]))\n",
    "    return lengths\n"
   ]
  },
  {
   "cell_type": "code",
   "execution_count": 5,
   "metadata": {},
   "outputs": [],
   "source": [
    "import numpy as np\n",
    "x1, x2, x3 = np.array([1.3, 2, 3])"
   ]
  },
  {
   "cell_type": "code",
   "execution_count": 8,
   "metadata": {},
   "outputs": [],
   "source": [
    "dx, dy, dz = 0.1, 0.1, 0.1\n",
    "nx, ny, nz = 10, 10, 10\n",
    "start = np.array([0.2,0,0])\n",
    "stop = np.array([0.7,1,1])\n",
    "my_list = siddon_params(start, stop, [0.1]*3 , [10]*3)"
   ]
  },
  {
   "cell_type": "code",
   "execution_count": null,
   "metadata": {},
   "outputs": [],
   "source": [
    "my_lengths = siddon_lengths(start, stop, my_list)"
   ]
  },
  {
   "cell_type": "code",
   "execution_count": null,
   "metadata": {},
   "outputs": [],
   "source": [
    "my_midpoints = siddon_midpoints(start, stop, my_list)\n",
    "my_midpoints_new = new_siddon_midpoints(start, stop, my_list)"
   ]
  },
  {
   "cell_type": "code",
   "execution_count": 23,
   "metadata": {},
   "outputs": [],
   "source": [
    "x1, y1, z1 = 0.2, 0.5, 1\n",
    "x2, y2, z2 =0.7, 1, 0\n",
    "dx, dy, dz = 0.1, 0.1, 0.1\n",
    "nx, ny, nz = 10, 10, 10\n",
    "args2 = (x1, y1, z1, x2, y2, z2, dx, dy, dz, nx, ny, nz)\n",
    "\n",
    "a_list = raytrace2(*args2)\n",
    "midpoints = calc_midpoints(x1, y1, z1, x2, y2, z2, a_list)"
   ]
  },
  {
   "cell_type": "code",
   "execution_count": 24,
   "metadata": {},
   "outputs": [],
   "source": [
    "start = np.array([0.2,0.5,1])\n",
    "stop = np.array([0.7,1,0])\n",
    "my_list = siddon_params(start, stop, [0.1]*3 , [10]*3)\n",
    "my_midpoints_new = new_siddon_midpoints(start, stop, my_list)"
   ]
  },
  {
   "cell_type": "code",
   "execution_count": 25,
   "metadata": {},
   "outputs": [
    {
     "data": {
      "text/plain": [
       "array([[0., 0., 0.],\n",
       "       [0., 0., 0.],\n",
       "       [0., 0., 0.],\n",
       "       [0., 0., 0.],\n",
       "       [0., 0., 0.],\n",
       "       [0., 0., 0.],\n",
       "       [0., 0., 0.],\n",
       "       [0., 0., 0.],\n",
       "       [0., 0., 0.],\n",
       "       [0., 0., 0.],\n",
       "       [0., 0., 0.],\n",
       "       [0., 0., 0.],\n",
       "       [0., 0., 0.],\n",
       "       [0., 0., 0.],\n",
       "       [0., 0., 0.]])"
      ]
     },
     "execution_count": 25,
     "metadata": {},
     "output_type": "execute_result"
    }
   ],
   "source": [
    "np.array(my_midpoints_new[:]) - np.array(midpoints[:])"
   ]
  },
  {
   "cell_type": "markdown",
   "metadata": {},
   "source": [
    "# Comparing midpoint methods"
   ]
  },
  {
   "cell_type": "code",
   "execution_count": 41,
   "metadata": {},
   "outputs": [],
   "source": [
    "def siddon_mid0(start, stop, a_list):\n",
    "    '''OG method\n",
    "    Calculates the midpoints of the ray sections that intersect each voxel'''\n",
    "    x1, y1, z1 = start\n",
    "    x2, y2, z2 = stop\n",
    "    # loop though, computing midpoints for each adjacent pair of a values for chosen coord\n",
    "    i_mid = []\n",
    "    for m in range(1, len(a_list)):\n",
    "        x = .5 * (a_list[m] + a_list[m - 1]) * (x2 - x1) + x1\n",
    "        y = .5 * (a_list[m] + a_list[m - 1]) * (y2 - y1) + y1\n",
    "        z = .5 * (a_list[m] + a_list[m - 1]) * (z2 - z1) + z1\n",
    "        i_mid.append((x, y, z))\n",
    "    return i_mid\n",
    "\n",
    "def siddon_mid1(start, stop, a_list):\n",
    "    '''\n",
    "    Calculates the midpoints of the ray sections that intersect each voxel'''\n",
    "    ray_mid = 0.5 * (stop - start)\n",
    "    # loop though, computing midpoints for each adjacent pair of a values for chosen coord\n",
    "    i_mid = []\n",
    "    for m in range(1, len(a_list)):\n",
    "        (x, y, z) = (a_list[m] + a_list[m - 1]) * ray_mid\n",
    "        i_mid.append((x, y, z))\n",
    "    return i_mid\n",
    "\n",
    "def siddon_mid2(start, stop, a_list):\n",
    "    '''Logically correct method\n",
    "    Calculates the midpoints of the ray sections that intersect each voxel'''\n",
    "    # loop though, computing midpoints for each adjacent pair of a values for chosen coord\n",
    "    i_mid = []\n",
    "    for m in range(1, len(a_list)):\n",
    "        # find halfway between params\n",
    "        i_mid_param = (0.5 * (a_list[m] - a_list[m - 1]) + a_list[m - 1])\n",
    "        (x, y, z) = i_mid_param * (stop - start) + start\n",
    "        i_mid.append((x, y, z))\n",
    "    return i_mid"
   ]
  },
  {
   "cell_type": "code",
   "execution_count": 27,
   "metadata": {},
   "outputs": [],
   "source": [
    "def compare(l1, l2):\n",
    "    return np.array(l1) - np.array(l2)"
   ]
  },
  {
   "cell_type": "code",
   "execution_count": 42,
   "metadata": {},
   "outputs": [],
   "source": [
    "start = np.array([0.2,0.5,1])\n",
    "stop = np.array([0.7,1,0])\n",
    "# start = np.array([0.2,0,0])\n",
    "# stop = np.array([0.7,1,1])\n",
    "my_list = siddon_params(start, stop, [0.1]*3 , [10]*3)\n",
    "l0 = siddon_mid0(start, stop, my_list)\n",
    "l1 = siddon_mid1(start, stop, my_list)\n",
    "l2 = siddon_mid2(start, stop, my_list)"
   ]
  },
  {
   "cell_type": "markdown",
   "metadata": {},
   "source": [
    "siddon_mid0 and siddon_mid2 seem to do the same thing, unlike siddon_mid1"
   ]
  },
  {
   "cell_type": "code",
   "execution_count": 44,
   "metadata": {},
   "outputs": [
    {
     "data": {
      "text/plain": [
       "array([[0., 0., 0.],\n",
       "       [0., 0., 0.],\n",
       "       [0., 0., 0.],\n",
       "       [0., 0., 0.],\n",
       "       [0., 0., 0.],\n",
       "       [0., 0., 0.],\n",
       "       [0., 0., 0.],\n",
       "       [0., 0., 0.],\n",
       "       [0., 0., 0.],\n",
       "       [0., 0., 0.],\n",
       "       [0., 0., 0.],\n",
       "       [0., 0., 0.],\n",
       "       [0., 0., 0.],\n",
       "       [0., 0., 0.],\n",
       "       [0., 0., 0.]])"
      ]
     },
     "execution_count": 44,
     "metadata": {},
     "output_type": "execute_result"
    }
   ],
   "source": [
    "# compare(l0, l1)\n",
    "compare(l0, l2)"
   ]
  },
  {
   "cell_type": "code",
   "execution_count": null,
   "metadata": {},
   "outputs": [],
   "source": []
  }
 ],
 "metadata": {
  "kernelspec": {
   "display_name": "Python 3.9.7 ('base')",
   "language": "python",
   "name": "python3"
  },
  "language_info": {
   "codemirror_mode": {
    "name": "ipython",
    "version": 3
   },
   "file_extension": ".py",
   "mimetype": "text/x-python",
   "name": "python",
   "nbconvert_exporter": "python",
   "pygments_lexer": "ipython3",
   "version": "3.9.7"
  },
  "orig_nbformat": 4,
  "vscode": {
   "interpreter": {
    "hash": "adf6e16edf1b77d6b92309181b1c4cc70ded90e5e0b47511b11f07b7b421dafb"
   }
  }
 },
 "nbformat": 4,
 "nbformat_minor": 2
}
