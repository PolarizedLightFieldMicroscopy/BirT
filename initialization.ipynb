{
 "cells": [
  {
   "cell_type": "markdown",
   "metadata": {},
   "source": [
    "## Initialization"
   ]
  },
  {
   "cell_type": "code",
   "execution_count": 1,
   "metadata": {},
   "outputs": [],
   "source": [
    "import numpy as np"
   ]
  },
  {
   "cell_type": "code",
   "execution_count": 2,
   "metadata": {},
   "outputs": [],
   "source": [
    "magnObj = 60\n",
    "nrCamPix = 16 # num pixels behind lenslet\n",
    "camPixPitch = 6.5\n",
    "microLensPitch = nrCamPix*camPixPitch/magnObj\n",
    "voxPitch = microLensPitch/5"
   ]
  },
  {
   "cell_type": "markdown",
   "metadata": {},
   "source": [
    "The number of voxels along each side length of the cube is determined by the voxPitch. An odd number of voxels will allow the center of a voxel in the center of object space.\n",
    "Object space center:\n",
    "voxCtr:center voxel where all rays of the central microlense converge\n",
    "volCtr:same center in micrometers"
   ]
  },
  {
   "cell_type": "code",
   "execution_count": 3,
   "metadata": {},
   "outputs": [
    {
     "data": {
      "text/plain": [
       "array([125.14666667, 350.13333333, 350.13333333])"
      ]
     },
     "execution_count": 3,
     "metadata": {},
     "output_type": "execute_result"
    }
   ],
   "source": [
    "voxNrX = round(250/voxPitch)\n",
    "if voxNrX % 2 == 1:\n",
    "    voxNrX += 1\n",
    "voxNrYZ = round(700/voxPitch)\n",
    "if voxNrYZ % 2 == 1:\n",
    "    voxNrYZ += 1\n",
    "voxCtr = np.array([voxNrX/2, voxNrYZ/2, voxNrYZ/2])\n",
    "volCtr = voxCtr*voxPitch\n",
    "volCtr"
   ]
  },
  {
   "cell_type": "code",
   "execution_count": 4,
   "metadata": {},
   "outputs": [],
   "source": [
    "wavelength = 0.550\n",
    "naObj = 1.2\n",
    "nMedium = 1.52\n"
   ]
  },
  {
   "cell_type": "markdown",
   "metadata": {},
   "source": [
    "What are they different unit types?\n",
    "What is the central lenslet?"
   ]
  },
  {
   "cell_type": "markdown",
   "metadata": {},
   "source": [
    "Finding angles to/between central lenset. Basically, the angle going to each of the 16 pixels for each microlens."
   ]
  },
  {
   "cell_type": "code",
   "execution_count": 5,
   "metadata": {},
   "outputs": [],
   "source": [
    "microLensCtr = [8, 8] # (unit: camera pixels)\n",
    "rNA = 7.5 # radius of edge of objective lens (unit:camera pixels)\n",
    "camPixRays = np.zeros([nrCamPix, nrCamPix])\n",
    "i = np.linspace(1, nrCamPix, nrCamPix)\n",
    "j = np.linspace(1, nrCamPix, nrCamPix)\n",
    "jv, iv = np.meshgrid(i, j) # row/column defined instead of by coordinate\n",
    "distFromCtr = np.sqrt((iv-0.5-microLensCtr[0])**2 + (jv-0.5-microLensCtr[1])**2)\n",
    "camPixRays[distFromCtr > rNA] = np.NaN\n",
    "iRel2Ctr = iv-0.5-microLensCtr[0]\n",
    "jRel2Ctr = jv-0.5-microLensCtr[1]\n",
    "camPixRaysAzim = np.round(np.rad2deg(np.arctan2(jRel2Ctr, iRel2Ctr)))\n",
    "camPixRaysAzim[distFromCtr > rNA] = np.NaN\n",
    "distFromCtr[distFromCtr > rNA] = np.NaN\n",
    "camPixRaysTilt = np.round(np.rad2deg(np.arcsin(distFromCtr/rNA*naObj/nMedium)))\n",
    "\n",
    "# posRel2Ctr[distFromCtr > rNA] = np.NaN\n",
    "# camPixRaysAzim = np.arctan2(jv-0.5-microLensCtr[1], iv-0.5-microLensCtr[0])/(np.pi/180)\n",
    "# for i in range(nrCamPix):\n",
    "#     for j in range(nrCamPix):\n",
    "#         if distFromCtr[i,j] > rNA:\n",
    "#             camPixRays[i,j] = np.NaN\n",
    "#         else:\n",
    "#             pass"
   ]
  },
  {
   "cell_type": "markdown",
   "metadata": {},
   "source": [
    "Camera ray entrance. For each inital ray position, we find the position on the entrance face of the object cube for which the ray enters.\n",
    "This is bascially the same as \"rayEnter\". Here $x=0$."
   ]
  },
  {
   "cell_type": "code",
   "execution_count": 6,
   "metadata": {},
   "outputs": [],
   "source": [
    "camRayEntranceX = np.zeros([nrCamPix, nrCamPix])\n",
    "camRayEntranceY = volCtr[0]*np.tan(np.deg2rad(camPixRaysTilt))*np.sin(np.deg2rad(camPixRaysAzim))+volCtr[1]\n",
    "camRayEntranceZ = volCtr[0]*np.tan(np.deg2rad(camPixRaysTilt))*np.cos(np.deg2rad(camPixRaysAzim))+volCtr[2]\n",
    "camRayEntranceX[np.isnan(camRayEntranceY)] = np.NaN\n",
    "camRayEntranceY[1,6]\n",
    "# When accessing array, x & y orientation are the same, \n",
    "# but minus one needs to be applied to match up with the mathematica indices.\n",
    "\n",
    "nrRays = np.sum(~np.isnan(camRayEntranceY)) # Number of all rays in use"
   ]
  },
  {
   "cell_type": "code",
   "execution_count": 12,
   "metadata": {},
   "outputs": [
    {
     "data": {
      "text/plain": [
       "array([nan, nan, nan])"
      ]
     },
     "execution_count": 12,
     "metadata": {},
     "output_type": "execute_result"
    }
   ],
   "source": [
    "camRayEntrance = np.array([camRayEntranceX, camRayEntranceY, camRayEntranceZ])\n",
    "camRayEntrance[:,1,6]\n",
    "rayEnter = camRayEntrance.copy()\n",
    "volCtrGridTemp = np.array([np.full((nrCamPix,nrCamPix), volCtr[i]) for i in range(3)])\n",
    "rayExit = rayEnter + 2 * (volCtrGridTemp - rayEnter)\n",
    "rayEnter[:,1,1]"
   ]
  },
  {
   "cell_type": "markdown",
   "metadata": {},
   "source": [
    "Testing the rayExit generate to only one element. This is the first element shown in the Mathematica code."
   ]
  },
  {
   "cell_type": "code",
   "execution_count": 8,
   "metadata": {},
   "outputs": [
    {
     "name": "stdout",
     "output_type": "stream",
     "text": [
      "[  0.         277.57966622 213.67973144]\n",
      "[250.29333333 422.68700045 486.58693523]\n"
     ]
    }
   ],
   "source": [
    "# rayExit = np.zeros((3,16,16))\n",
    "print(rayEnter[:,1,4])\n",
    "# rayExit[:,1,4] = rayEnter[:,1,4] + 2*(volCtr-rayEnter[:,1,4])\n",
    "print(rayExit[:,1,4])"
   ]
  },
  {
   "cell_type": "code",
   "execution_count": 9,
   "metadata": {},
   "outputs": [
    {
     "name": "stdout",
     "output_type": "stream",
     "text": [
      "[0.62932039 0.36484793 0.68617916]\n"
     ]
    }
   ],
   "source": [
    "rayDiff = rayExit - rayEnter\n",
    "for i in range(nrCamPix):\n",
    "    for j in range(nrCamPix):\n",
    "        rayDiff[:,i,j] = rayDiff[:,i,j] / np.linalg.norm(rayDiff[:,i,j])\n",
    "print(rayDiff[:,1,4])\n",
    "# Remaining of rayunitvectors needed for simulation"
   ]
  },
  {
   "cell_type": "code",
   "execution_count": 10,
   "metadata": {},
   "outputs": [
    {
     "name": "stdout",
     "output_type": "stream",
     "text": [
      "[[nan nan nan nan nan nan nan nan nan nan nan nan nan nan nan nan]\n",
      " [nan nan nan nan 51. 47. 45. 43. 43. 45. 47. 51. nan nan nan nan]\n",
      " [nan nan nan 48. 43. 39. 37. 36. 36. 37. 39. 43. 48. nan nan nan]\n",
      " [nan nan 48. 42. 37. 33. 30. 28. 28. 30. 33. 37. 42. 48. nan nan]\n",
      " [nan 51. 43. 37. 31. 27. 24. 22. 22. 24. 27. 31. 37. 43. 51. nan]\n",
      " [nan 47. 39. 33. 27. 22. 18. 16. 16. 18. 22. 27. 33. 39. 47. nan]\n",
      " [nan 45. 37. 30. 24. 18. 13. 10. 10. 13. 18. 24. 30. 37. 45. nan]\n",
      " [nan 43. 36. 28. 22. 16. 10.  4.  4. 10. 16. 22. 28. 36. 43. nan]\n",
      " [nan 43. 36. 28. 22. 16. 10.  4.  4. 10. 16. 22. 28. 36. 43. nan]\n",
      " [nan 45. 37. 30. 24. 18. 13. 10. 10. 13. 18. 24. 30. 37. 45. nan]\n",
      " [nan 47. 39. 33. 27. 22. 18. 16. 16. 18. 22. 27. 33. 39. 47. nan]\n",
      " [nan 51. 43. 37. 31. 27. 24. 22. 22. 24. 27. 31. 37. 43. 51. nan]\n",
      " [nan nan 48. 42. 37. 33. 30. 28. 28. 30. 33. 37. 42. 48. nan nan]\n",
      " [nan nan nan 48. 43. 39. 37. 36. 36. 37. 39. 43. 48. nan nan nan]\n",
      " [nan nan nan nan 51. 47. 45. 43. 43. 45. 47. 51. nan nan nan nan]\n",
      " [nan nan nan nan nan nan nan nan nan nan nan nan nan nan nan nan]]\n",
      "[[  nan   nan   nan   nan   nan   nan   nan   nan   nan   nan   nan   nan\n",
      "    nan   nan   nan   nan]\n",
      " [  nan   nan   nan   nan -152. -159. -167. -176.  176.  167.  159.  152.\n",
      "    nan   nan   nan   nan]\n",
      " [  nan   nan   nan -141. -148. -156. -165. -175.  175.  165.  156.  148.\n",
      "   141.   nan   nan   nan]\n",
      " [  nan   nan -129. -135. -142. -151. -162. -174.  174.  162.  151.  142.\n",
      "   135.  129.   nan   nan]\n",
      " [  nan -118. -122. -128. -135. -144. -157. -172.  172.  157.  144.  135.\n",
      "   128.  122.  118.   nan]\n",
      " [  nan -111. -114. -119. -126. -135. -149. -169.  169.  149.  135.  126.\n",
      "   119.  114.  111.   nan]\n",
      " [  nan -103. -105. -108. -113. -121. -135. -162.  162.  135.  121.  113.\n",
      "   108.  105.  103.   nan]\n",
      " [  nan  -94.  -95.  -96.  -98. -101. -108. -135.  135.  108.  101.   98.\n",
      "    96.   95.   94.   nan]\n",
      " [  nan  -86.  -85.  -84.  -82.  -79.  -72.  -45.   45.   72.   79.   82.\n",
      "    84.   85.   86.   nan]\n",
      " [  nan  -77.  -75.  -72.  -67.  -59.  -45.  -18.   18.   45.   59.   67.\n",
      "    72.   75.   77.   nan]\n",
      " [  nan  -69.  -66.  -61.  -54.  -45.  -31.  -11.   11.   31.   45.   54.\n",
      "    61.   66.   69.   nan]\n",
      " [  nan  -62.  -58.  -52.  -45.  -36.  -23.   -8.    8.   23.   36.   45.\n",
      "    52.   58.   62.   nan]\n",
      " [  nan   nan  -51.  -45.  -38.  -29.  -18.   -6.    6.   18.   29.   38.\n",
      "    45.   51.   nan   nan]\n",
      " [  nan   nan   nan  -39.  -32.  -24.  -15.   -5.    5.   15.   24.   32.\n",
      "    39.   nan   nan   nan]\n",
      " [  nan   nan   nan   nan  -28.  -21.  -13.   -4.    4.   13.   21.   28.\n",
      "    nan   nan   nan   nan]\n",
      " [  nan   nan   nan   nan   nan   nan   nan   nan   nan   nan   nan   nan\n",
      "    nan   nan   nan   nan]]\n",
      "<class 'numpy.float64'>\n",
      "[[nan nan nan nan nan nan nan nan nan nan nan nan nan nan nan nan]\n",
      " [nan nan nan nan  0.  0.  0.  0.  0.  0.  0.  0. nan nan nan nan]\n",
      " [nan nan nan  0.  0.  0.  0.  0.  0.  0.  0.  0.  0. nan nan nan]\n",
      " [nan nan  0.  0.  0.  0.  0.  0.  0.  0.  0.  0.  0.  0. nan nan]\n",
      " [nan  0.  0.  0.  0.  0.  0.  0.  0.  0.  0.  0.  0.  0.  0. nan]\n",
      " [nan  0.  0.  0.  0.  0.  0.  0.  0.  0.  0.  0.  0.  0.  0. nan]\n",
      " [nan  0.  0.  0.  0.  0.  0.  0.  0.  0.  0.  0.  0.  0.  0. nan]\n",
      " [nan  0.  0.  0.  0.  0.  0.  0.  0.  0.  0.  0.  0.  0.  0. nan]\n",
      " [nan  0.  0.  0.  0.  0.  0.  0.  0.  0.  0.  0.  0.  0.  0. nan]\n",
      " [nan  0.  0.  0.  0.  0.  0.  0.  0.  0.  0.  0.  0.  0.  0. nan]\n",
      " [nan  0.  0.  0.  0.  0.  0.  0.  0.  0.  0.  0.  0.  0.  0. nan]\n",
      " [nan  0.  0.  0.  0.  0.  0.  0.  0.  0.  0.  0.  0.  0.  0. nan]\n",
      " [nan nan  0.  0.  0.  0.  0.  0.  0.  0.  0.  0.  0.  0. nan nan]\n",
      " [nan nan nan  0.  0.  0.  0.  0.  0.  0.  0.  0.  0. nan nan nan]\n",
      " [nan nan nan nan  0.  0.  0.  0.  0.  0.  0.  0. nan nan nan nan]\n",
      " [nan nan nan nan nan nan nan nan nan nan nan nan nan nan nan nan]]\n"
     ]
    }
   ],
   "source": [
    "# print(yv)\n",
    "# print(camPix)\n",
    "# print(distFromCtr)\n",
    "print(camPixRaysTilt)\n",
    "print(camPixRaysAzim)\n",
    "print(type(camPixRaysAzim[0,0]))\n",
    "print(camPixRays)"
   ]
  },
  {
   "cell_type": "code",
   "execution_count": null,
   "metadata": {},
   "outputs": [],
   "source": []
  }
 ],
 "metadata": {
  "kernelspec": {
   "display_name": "Python 3.9.7 ('base')",
   "language": "python",
   "name": "python3"
  },
  "language_info": {
   "codemirror_mode": {
    "name": "ipython",
    "version": 3
   },
   "file_extension": ".py",
   "mimetype": "text/x-python",
   "name": "python",
   "nbconvert_exporter": "python",
   "pygments_lexer": "ipython3",
   "version": "3.9.7"
  },
  "orig_nbformat": 4,
  "vscode": {
   "interpreter": {
    "hash": "adf6e16edf1b77d6b92309181b1c4cc70ded90e5e0b47511b11f07b7b421dafb"
   }
  }
 },
 "nbformat": 4,
 "nbformat_minor": 2
}
