{
 "cells": [
  {
   "cell_type": "markdown",
   "metadata": {},
   "source": [
    "## Initialization"
   ]
  },
  {
   "cell_type": "code",
   "execution_count": 43,
   "metadata": {},
   "outputs": [],
   "source": [
    "import numpy as np"
   ]
  },
  {
   "cell_type": "code",
   "execution_count": 44,
   "metadata": {},
   "outputs": [],
   "source": [
    "magnObj = 60\n",
    "nrCamPix = 16 # num pixels behind lenslet\n",
    "camPixPitch = 6.5\n",
    "microLensPitch = nrCamPix*camPixPitch/magnObj\n",
    "voxPitch = microLensPitch/5"
   ]
  },
  {
   "cell_type": "markdown",
   "metadata": {},
   "source": [
    "The number of voxels along each side length of the cube is determined by the voxPitch. An odd number of voxels will allow the center of a voxel in the center of object space.\n",
    "Object space center:\n",
    "voxCtr:center voxel where all rays of the central microlense converge\n",
    "volCtr:same center in micrometers"
   ]
  },
  {
   "cell_type": "code",
   "execution_count": 45,
   "metadata": {},
   "outputs": [
    {
     "data": {
      "text/plain": [
       "array([125.14666667, 350.13333333, 350.13333333])"
      ]
     },
     "execution_count": 45,
     "metadata": {},
     "output_type": "execute_result"
    }
   ],
   "source": [
    "voxNrX = round(250/voxPitch)\n",
    "if voxNrX % 2 == 1:\n",
    "    voxNrX += 1\n",
    "voxNrYZ = round(700/voxPitch)\n",
    "if voxNrYZ % 2 == 1:\n",
    "    voxNrYZ += 1\n",
    "voxCtr = np.array([voxNrX/2, voxNrYZ/2, voxNrYZ/2])\n",
    "volCtr = voxCtr*voxPitch\n",
    "volCtr"
   ]
  },
  {
   "cell_type": "code",
   "execution_count": 46,
   "metadata": {},
   "outputs": [],
   "source": [
    "wavelength = 0.550\n",
    "naObj = 1.2\n",
    "nMedium = 1.52\n"
   ]
  },
  {
   "cell_type": "markdown",
   "metadata": {},
   "source": [
    "Finding angles to/between central lenset. Basically, the angle going to each of the 16 pixels for each microlens."
   ]
  },
  {
   "cell_type": "code",
   "execution_count": 47,
   "metadata": {},
   "outputs": [],
   "source": [
    "microLensCtr = [8, 8] # (unit: camera pixels)\n",
    "rNA = 7.5 # radius of edge of microlens lens (unit:camera pixels), \n",
    "            # can be measured in back focal plane of microlenses\n",
    "camPixRays = np.zeros([nrCamPix, nrCamPix])\n",
    "i = np.linspace(1, nrCamPix, nrCamPix)\n",
    "j = np.linspace(1, nrCamPix, nrCamPix)\n",
    "jv, iv = np.meshgrid(i, j) # row/column defined instead of by coordinate\n",
    "distFromCtr = np.sqrt((iv-0.5-microLensCtr[0])**2 + (jv-0.5-microLensCtr[1])**2)\n",
    "camPixRays[distFromCtr > rNA] = np.NaN\n",
    "iRel2Ctr = iv-0.5-microLensCtr[0]\n",
    "jRel2Ctr = jv-0.5-microLensCtr[1]\n",
    "camPixRaysAzim = np.round(np.rad2deg(np.arctan2(jRel2Ctr, iRel2Ctr)))\n",
    "camPixRaysAzim[distFromCtr > rNA] = np.NaN\n",
    "distFromCtr[distFromCtr > rNA] = np.NaN\n",
    "camPixRaysTilt = np.round(np.rad2deg(np.arcsin(distFromCtr/rNA*naObj/nMedium)))\n",
    "\n",
    "# posRel2Ctr[distFromCtr > rNA] = np.NaN\n",
    "# camPixRaysAzim = np.arctan2(jv-0.5-microLensCtr[1], iv-0.5-microLensCtr[0])/(np.pi/180)\n",
    "# for i in range(nrCamPix):\n",
    "#     for j in range(nrCamPix):\n",
    "#         if distFromCtr[i,j] > rNA:\n",
    "#             camPixRays[i,j] = np.NaN\n",
    "#         else:\n",
    "#             pass"
   ]
  },
  {
   "cell_type": "markdown",
   "metadata": {},
   "source": [
    "Camera ray entrance. For each inital ray position, we find the position on the entrance face of the object cube for which the ray enters.\n",
    "This is bascially the same as \"rayEnter\". Here $x=0$."
   ]
  },
  {
   "cell_type": "code",
   "execution_count": 48,
   "metadata": {},
   "outputs": [],
   "source": [
    "camRayEntranceX = np.zeros([nrCamPix, nrCamPix])\n",
    "camRayEntranceY = volCtr[0]*np.tan(np.deg2rad(camPixRaysTilt))*np.sin(np.deg2rad(camPixRaysAzim))+volCtr[1]\n",
    "camRayEntranceZ = volCtr[0]*np.tan(np.deg2rad(camPixRaysTilt))*np.cos(np.deg2rad(camPixRaysAzim))+volCtr[2]\n",
    "camRayEntranceX[np.isnan(camRayEntranceY)] = np.NaN\n",
    "camRayEntranceY[1,6]\n",
    "# When accessing array, x & y orientation are the same, \n",
    "# but minus one needs to be applied to match up with the mathematica indices.\n",
    "\n",
    "nrRays = np.sum(~np.isnan(camRayEntranceY)) # Number of all rays in use"
   ]
  },
  {
   "cell_type": "code",
   "execution_count": 59,
   "metadata": {},
   "outputs": [
    {
     "data": {
      "text/plain": [
       "array([  0.        , 328.36223018, 298.84382846])"
      ]
     },
     "execution_count": 59,
     "metadata": {},
     "output_type": "execute_result"
    }
   ],
   "source": [
    "camRayEntrance = np.array([camRayEntranceX, camRayEntranceY, camRayEntranceZ])\n",
    "camRayEntrance[:,1,6]\n",
    "rayEnter = camRayEntrance.copy()\n",
    "volCtrGridTemp = np.array([np.full((nrCamPix,nrCamPix), volCtr[i]) for i in range(3)])\n",
    "rayExit = rayEnter + 2 * (volCtrGridTemp - rayEnter)\n",
    "rayEnter[:,4,6]"
   ]
  },
  {
   "cell_type": "markdown",
   "metadata": {},
   "source": [
    "Testing the rayExit generate to only one element. This is the first element shown in the Mathematica code."
   ]
  },
  {
   "cell_type": "code",
   "execution_count": 50,
   "metadata": {},
   "outputs": [
    {
     "name": "stdout",
     "output_type": "stream",
     "text": [
      "[  0.         277.57966622 213.67973144]\n",
      "[250.29333333 422.68700045 486.58693523]\n"
     ]
    }
   ],
   "source": [
    "# rayExit = np.zeros((3,16,16))\n",
    "print(rayEnter[:,1,4])\n",
    "# rayExit[:,1,4] = rayEnter[:,1,4] + 2*(volCtr-rayEnter[:,1,4])\n",
    "print(rayExit[:,1,4])"
   ]
  },
  {
   "cell_type": "markdown",
   "metadata": {},
   "source": [
    "Direction of the rays at the exit plane"
   ]
  },
  {
   "cell_type": "code",
   "execution_count": 51,
   "metadata": {},
   "outputs": [
    {
     "name": "stdout",
     "output_type": "stream",
     "text": [
      "[0.62932039 0.36484793 0.68617916]\n"
     ]
    }
   ],
   "source": [
    "rayDiff = rayExit - rayEnter\n",
    "# Efficient normalizing of rayDiff vectors\n",
    "rayDiff = rayExit - rayEnter\n",
    "mags = np.linalg.norm(rayDiff, axis=0)\n",
    "rayDiff = rayDiff / mags\n",
    "# # Ineffcient normalizing\n",
    "# # Normalize the rayDiff vectors (can be done w/o for loops)\n",
    "# for i in range(nrCamPix):\n",
    "#     for j in range(nrCamPix):\n",
    "#         rayDiff[:,i,j] = rayDiff[:,i,j] / np.linalg.norm(rayDiff[:,i,j])\n",
    "print(rayDiff[:,1,4])"
   ]
  },
  {
   "cell_type": "code",
   "execution_count": 52,
   "metadata": {},
   "outputs": [],
   "source": [
    "def rotation_matrix(axis, angle):\n",
    "    '''Generates the rotation matrix that will rotate a 3D vector\n",
    "    around \"axis\" by \"angle\" counterclockwise.'''\n",
    "    ax, ay, az = axis[0], axis[1], axis[2]\n",
    "    s = np.sin(angle)\n",
    "    c = np.cos(angle)\n",
    "    u = 1 - c\n",
    "    R_tuple = ( ( ax*ax*u + c,    ax*ay*u - az*s, ax*az*u + ay*s ),\n",
    "        ( ay*ax*u + az*s, ay*ay*u + c,    ay*az*u - ax*s ),\n",
    "        ( az*ax*u - ay*s, az*ay*u + ax*s, az*az*u + c    ) )\n",
    "    R = np.asarray(R_tuple)\n",
    "    return R\n",
    "    "
   ]
  },
  {
   "cell_type": "code",
   "execution_count": 53,
   "metadata": {},
   "outputs": [],
   "source": [
    "# Note: might only need two perp rays, not matrix or ray again, would call it rayDir\n",
    "def calc_rayUnitVectors(ray):\n",
    "    '''\n",
    "    Allows to the calculations to be done in ray-space coordinates\n",
    "    as oppossed to laboratory coordinates\n",
    "    Parameters:\n",
    "        ray (np.array): normalized 3D vector giving the direction \n",
    "                        of the light ray\n",
    "    Returns:\n",
    "        ray (np.array): same as input\n",
    "        ray_perp1 (np.array): normalized 3D vector\n",
    "        ray_perp2 (np.array): normalized 3D vector\n",
    "        R (np.array): 3x3 rotation matrix form ray to lab frame\n",
    "    '''\n",
    "    theta = np.arccos(np.dot(ray, np.array([1,0,0])))\n",
    "    # Unit vectors that give the laboratory axes\n",
    "    scope_axis = np.array([1,0,0])\n",
    "    scope_perp1 = np.array([0,1,0])\n",
    "    scope_perp2 = np.array([0,0,1])\n",
    "    theta = np.arccos(np.dot(ray, scope_axis))\n",
    "    print(f\"Rotating by {np.around(np.rad2deg(theta), decimals=0)} degrees\")\n",
    "    normal_vec = np.cross(ray, scope_axis) / np.linalg.norm(np.cross(ray, scope_axis))\n",
    "    R = rotation_matrix(normal_vec, theta)\n",
    "    Rinv = rotation_matrix(normal_vec, -theta)\n",
    "    # Extracting basis vectors that are orthogonal to the ray and will be parallel\n",
    "    # to the laboratory axes that are not the optic axis after a rotation.\n",
    "    # Note: If scope_perp1 if the y-axis, then ray_perp1 if the 2nd column of Rinv.\n",
    "    ray_perp1 = np.dot(Rinv, scope_perp1)\n",
    "    ray_perp2 = np.dot(Rinv, scope_perp2)\n",
    "\n",
    "    return [ray, ray_perp1, ray_perp2, R]"
   ]
  },
  {
   "cell_type": "markdown",
   "metadata": {},
   "source": [
    "Testing rayUnitVectors function"
   ]
  },
  {
   "cell_type": "code",
   "execution_count": 54,
   "metadata": {},
   "outputs": [
    {
     "name": "stdout",
     "output_type": "stream",
     "text": [
      "Rotating by 53.0 degrees\n",
      "Rotating by 51.0 degrees\n"
     ]
    },
    {
     "data": {
      "text/plain": [
       "[array([0.62932039, 0.36484793, 0.68617916]),\n",
       " array([-0.36484793,  0.9183009 , -0.15365366]),\n",
       " array([-0.68617916, -0.15365366,  0.71101949]),\n",
       " array([[ 0.62932039,  0.36484793,  0.68617916],\n",
       "        [-0.36484793,  0.9183009 , -0.15365366],\n",
       "        [-0.68617916, -0.15365366,  0.71101949]])]"
      ]
     },
     "execution_count": 54,
     "metadata": {},
     "output_type": "execute_result"
    }
   ],
   "source": [
    "from random import Random\n",
    "rng = Random()\n",
    "a = (rng.uniform(-5,5), rng.uniform(-5,5), rng.uniform(-5,5))\n",
    "# ray = np.array([0.5,0.5,0])\n",
    "ray = a / np.linalg.norm(a)\n",
    "calc_rayUnitVectors(ray)\n",
    "calc_rayUnitVectors(rayDiff[:,1,4])"
   ]
  },
  {
   "cell_type": "code",
   "execution_count": 55,
   "metadata": {},
   "outputs": [
    {
     "name": "stdout",
     "output_type": "stream",
     "text": [
      "[[nan nan nan nan nan nan nan nan nan nan nan nan nan nan nan nan]\n",
      " [nan nan nan nan 51. 47. 45. 43. 43. 45. 47. 51. nan nan nan nan]\n",
      " [nan nan nan 48. 43. 39. 37. 36. 36. 37. 39. 43. 48. nan nan nan]\n",
      " [nan nan 48. 42. 37. 33. 30. 28. 28. 30. 33. 37. 42. 48. nan nan]\n",
      " [nan 51. 43. 37. 31. 27. 24. 22. 22. 24. 27. 31. 37. 43. 51. nan]\n",
      " [nan 47. 39. 33. 27. 22. 18. 16. 16. 18. 22. 27. 33. 39. 47. nan]\n",
      " [nan 45. 37. 30. 24. 18. 13. 10. 10. 13. 18. 24. 30. 37. 45. nan]\n",
      " [nan 43. 36. 28. 22. 16. 10.  4.  4. 10. 16. 22. 28. 36. 43. nan]\n",
      " [nan 43. 36. 28. 22. 16. 10.  4.  4. 10. 16. 22. 28. 36. 43. nan]\n",
      " [nan 45. 37. 30. 24. 18. 13. 10. 10. 13. 18. 24. 30. 37. 45. nan]\n",
      " [nan 47. 39. 33. 27. 22. 18. 16. 16. 18. 22. 27. 33. 39. 47. nan]\n",
      " [nan 51. 43. 37. 31. 27. 24. 22. 22. 24. 27. 31. 37. 43. 51. nan]\n",
      " [nan nan 48. 42. 37. 33. 30. 28. 28. 30. 33. 37. 42. 48. nan nan]\n",
      " [nan nan nan 48. 43. 39. 37. 36. 36. 37. 39. 43. 48. nan nan nan]\n",
      " [nan nan nan nan 51. 47. 45. 43. 43. 45. 47. 51. nan nan nan nan]\n",
      " [nan nan nan nan nan nan nan nan nan nan nan nan nan nan nan nan]]\n",
      "[[  nan   nan   nan   nan   nan   nan   nan   nan   nan   nan   nan   nan\n",
      "    nan   nan   nan   nan]\n",
      " [  nan   nan   nan   nan -152. -159. -167. -176.  176.  167.  159.  152.\n",
      "    nan   nan   nan   nan]\n",
      " [  nan   nan   nan -141. -148. -156. -165. -175.  175.  165.  156.  148.\n",
      "   141.   nan   nan   nan]\n",
      " [  nan   nan -129. -135. -142. -151. -162. -174.  174.  162.  151.  142.\n",
      "   135.  129.   nan   nan]\n",
      " [  nan -118. -122. -128. -135. -144. -157. -172.  172.  157.  144.  135.\n",
      "   128.  122.  118.   nan]\n",
      " [  nan -111. -114. -119. -126. -135. -149. -169.  169.  149.  135.  126.\n",
      "   119.  114.  111.   nan]\n",
      " [  nan -103. -105. -108. -113. -121. -135. -162.  162.  135.  121.  113.\n",
      "   108.  105.  103.   nan]\n",
      " [  nan  -94.  -95.  -96.  -98. -101. -108. -135.  135.  108.  101.   98.\n",
      "    96.   95.   94.   nan]\n",
      " [  nan  -86.  -85.  -84.  -82.  -79.  -72.  -45.   45.   72.   79.   82.\n",
      "    84.   85.   86.   nan]\n",
      " [  nan  -77.  -75.  -72.  -67.  -59.  -45.  -18.   18.   45.   59.   67.\n",
      "    72.   75.   77.   nan]\n",
      " [  nan  -69.  -66.  -61.  -54.  -45.  -31.  -11.   11.   31.   45.   54.\n",
      "    61.   66.   69.   nan]\n",
      " [  nan  -62.  -58.  -52.  -45.  -36.  -23.   -8.    8.   23.   36.   45.\n",
      "    52.   58.   62.   nan]\n",
      " [  nan   nan  -51.  -45.  -38.  -29.  -18.   -6.    6.   18.   29.   38.\n",
      "    45.   51.   nan   nan]\n",
      " [  nan   nan   nan  -39.  -32.  -24.  -15.   -5.    5.   15.   24.   32.\n",
      "    39.   nan   nan   nan]\n",
      " [  nan   nan   nan   nan  -28.  -21.  -13.   -4.    4.   13.   21.   28.\n",
      "    nan   nan   nan   nan]\n",
      " [  nan   nan   nan   nan   nan   nan   nan   nan   nan   nan   nan   nan\n",
      "    nan   nan   nan   nan]]\n",
      "<class 'numpy.float64'>\n",
      "[[nan nan nan nan nan nan nan nan nan nan nan nan nan nan nan nan]\n",
      " [nan nan nan nan  0.  0.  0.  0.  0.  0.  0.  0. nan nan nan nan]\n",
      " [nan nan nan  0.  0.  0.  0.  0.  0.  0.  0.  0.  0. nan nan nan]\n",
      " [nan nan  0.  0.  0.  0.  0.  0.  0.  0.  0.  0.  0.  0. nan nan]\n",
      " [nan  0.  0.  0.  0.  0.  0.  0.  0.  0.  0.  0.  0.  0.  0. nan]\n",
      " [nan  0.  0.  0.  0.  0.  0.  0.  0.  0.  0.  0.  0.  0.  0. nan]\n",
      " [nan  0.  0.  0.  0.  0.  0.  0.  0.  0.  0.  0.  0.  0.  0. nan]\n",
      " [nan  0.  0.  0.  0.  0.  0.  0.  0.  0.  0.  0.  0.  0.  0. nan]\n",
      " [nan  0.  0.  0.  0.  0.  0.  0.  0.  0.  0.  0.  0.  0.  0. nan]\n",
      " [nan  0.  0.  0.  0.  0.  0.  0.  0.  0.  0.  0.  0.  0.  0. nan]\n",
      " [nan  0.  0.  0.  0.  0.  0.  0.  0.  0.  0.  0.  0.  0.  0. nan]\n",
      " [nan  0.  0.  0.  0.  0.  0.  0.  0.  0.  0.  0.  0.  0.  0. nan]\n",
      " [nan nan  0.  0.  0.  0.  0.  0.  0.  0.  0.  0.  0.  0. nan nan]\n",
      " [nan nan nan  0.  0.  0.  0.  0.  0.  0.  0.  0.  0. nan nan nan]\n",
      " [nan nan nan nan  0.  0.  0.  0.  0.  0.  0.  0. nan nan nan nan]\n",
      " [nan nan nan nan nan nan nan nan nan nan nan nan nan nan nan nan]]\n"
     ]
    }
   ],
   "source": [
    "# print(yv)\n",
    "# print(camPix)\n",
    "# print(distFromCtr)\n",
    "print(camPixRaysTilt)\n",
    "print(camPixRaysAzim)\n",
    "print(type(camPixRaysAzim[0,0]))\n",
    "print(camPixRays)"
   ]
  },
  {
   "cell_type": "code",
   "execution_count": 56,
   "metadata": {},
   "outputs": [],
   "source": [
    "# Set ray and voxel parameters\n",
    "a = (rng.uniform(-5,5), rng.uniform(-5,5), rng.uniform(-5,5))\n",
    "opticAxis = a / np.linalg.norm(a)\n",
    "opticAxis = [1,0,0]\n",
    "a = (rng.uniform(-5,5), rng.uniform(-5,5), rng.uniform(-5,5))\n",
    "ray = a / np.linalg.norm(a)\n",
    "# ray = [0,1,0]\n",
    "Delta_n = rng.uniform(-1,1)\n",
    "Delta_n = 1"
   ]
  },
  {
   "cell_type": "markdown",
   "metadata": {},
   "source": [
    "Forming the product of the Jones matrices"
   ]
  },
  {
   "cell_type": "code",
   "execution_count": 57,
   "metadata": {},
   "outputs": [],
   "source": [
    "def voxRayJM(Delta_n, opticAxis, rayDir, ell):\n",
    "    '''Compute Jones matrix associated with a particular ray and voxel combination'''\n",
    "    azim = np.arctan2(np.dot(opticAxis, rayDir[1]), np.dot(opticAxis, rayDir[2]))\n",
    "    # add dependence of azim on birefringence\n",
    "    print(f\"Azimuth angle of index ellipsoid is {np.around(np.rad2deg(azim), decimals=0)} degrees.\")\n",
    "    ret = abs(Delta_n) * (1 - np.dot(opticAxis, rayDir[0]) ** 2) * 2 * np.pi * ell/ wavelength\n",
    "    print(f\"Accumulated retardance from index ellipsoid is {np.around(np.rad2deg(ret), decimals=0)} ~ {int(np.rad2deg(ret)) % 360} degrees.\")\n",
    "    offdiag = 1j * np.sin(2 * azim) * np.sin(ret / 2)\n",
    "    diag1 = np.cos(ret / 2) + 1j * np.cos(2 * azim) * np.sin(ret / 2)\n",
    "    diag2 = np.conj(diag1)\n",
    "    return np.matrix([[diag1, offdiag], [offdiag, diag2]])\n",
    "\n",
    "def rayJM(JMlist):\n",
    "    '''Computes product of Jones matrix sequence\n",
    "    Equivalent method: np.linalg.multi_dot([JM1, JM2])\n",
    "    '''\n",
    "    product = np.identity(2)\n",
    "    for JM in JMlist:\n",
    "        product = product @ JM\n",
    "    return product"
   ]
  },
  {
   "cell_type": "markdown",
   "metadata": {},
   "source": [
    "Example usage of voxRayJM and rayJM"
   ]
  },
  {
   "cell_type": "code",
   "execution_count": 58,
   "metadata": {},
   "outputs": [
    {
     "name": "stdout",
     "output_type": "stream",
     "text": [
      "Rotating by 128.0 degrees\n",
      "Azimuth angle of index ellipsoid is 43.0 degrees.\n",
      "Accumulated retardance from index ellipsoid is 405.0 ~ 44 degrees.\n",
      "Jones matrix is \n",
      "[[-0.92-0.03j -0.  -0.38j]\n",
      " [-0.  -0.38j -0.92+0.03j]]\n",
      "Azimuth angle of index ellipsoid is 43.0 degrees.\n",
      "Accumulated retardance from index ellipsoid is 405.0 ~ 44 degrees.\n",
      "Azimuth angle of index ellipsoid is 43.0 degrees.\n",
      "Accumulated retardance from index ellipsoid is 202.0 ~ 202 degrees.\n"
     ]
    },
    {
     "data": {
      "text/plain": [
       "matrix([[ 5.52089737e-01-0.06960082j,  3.49568195e-18-0.83087463j],\n",
       "        [-2.65640629e-18-0.83087463j,  5.52089737e-01+0.06960082j]])"
      ]
     },
     "execution_count": 58,
     "metadata": {},
     "output_type": "execute_result"
    }
   ],
   "source": [
    "rayUnitVectors = calc_rayUnitVectors(ray)\n",
    "rayDir = rayUnitVectors[0:3]\n",
    "ell = 1\n",
    "JM = voxRayJM(Delta_n, opticAxis, rayDir, ell)\n",
    "print(f\"Jones matrix is \\n{np.around(JM, decimals=2)}\")\n",
    "\n",
    "JM1 = voxRayJM(Delta_n, opticAxis, rayDir, ell)\n",
    "JM2 = voxRayJM(Delta_n, opticAxis, rayDir, ell/2)\n",
    "rayJM([JM1, JM2])"
   ]
  },
  {
   "cell_type": "code",
   "execution_count": 81,
   "metadata": {},
   "outputs": [],
   "source": [
    "import import_ipynb\n",
    "from ray_siddon import *"
   ]
  },
  {
   "cell_type": "markdown",
   "metadata": {},
   "source": [
    "For a single microlens"
   ]
  },
  {
   "cell_type": "code",
   "execution_count": null,
   "metadata": {},
   "outputs": [],
   "source": [
    "start = rayEnter[:,i,j]\n",
    "stop = rayExit[:,i,j]\n",
    "siddon_list = siddon_params(start, stop, [voxPitch]*3, [voxNrX, voxNrYZ, voxNrYZ])\n",
    "seg_mids = siddon_midpoints(start, stop, siddon_list)\n",
    "voxels_of_segs = voxel_indices(seg_mids, voxPitch)\n",
    "ell_in_voxels = siddon_lengths(start, stop, siddon_list)"
   ]
  },
  {
   "cell_type": "code",
   "execution_count": null,
   "metadata": {},
   "outputs": [],
   "source": [
    "ray = rayDiff[:,i,j]\n",
    "rayUnitVectors = calc_rayUnitVectors(ray)\n",
    "rayDir = rayUnitVectors[0:3]\n",
    "JM_list = []\n",
    "for m in len(ell_in_voxels):\n",
    "    ell = ell_in_voxels[m]\n",
    "    vox = voxels_of_segs[m]\n",
    "    Delta_n, opticAxis = get_ellipsoid(vox)\n",
    "    JM = voxRayJM(Delta_n, opticAxis, rayDir, ell)\n",
    "    JM_list.append(JM)\n",
    "effective_JM = rayJM(JM_list)"
   ]
  }
 ],
 "metadata": {
  "kernelspec": {
   "display_name": "Python 3.9.7 ('base')",
   "language": "python",
   "name": "python3"
  },
  "language_info": {
   "codemirror_mode": {
    "name": "ipython",
    "version": 3
   },
   "file_extension": ".py",
   "mimetype": "text/x-python",
   "name": "python",
   "nbconvert_exporter": "python",
   "pygments_lexer": "ipython3",
   "version": "3.9.7"
  },
  "orig_nbformat": 4,
  "vscode": {
   "interpreter": {
    "hash": "adf6e16edf1b77d6b92309181b1c4cc70ded90e5e0b47511b11f07b7b421dafb"
   }
  }
 },
 "nbformat": 4,
 "nbformat_minor": 2
}
