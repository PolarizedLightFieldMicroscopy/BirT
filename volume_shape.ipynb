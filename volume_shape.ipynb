{
 "cells": [
  {
   "cell_type": "code",
   "execution_count": 1,
   "metadata": {},
   "outputs": [
    {
     "name": "stderr",
     "output_type": "stream",
     "text": [
      "c:\\Users\\gschl\\anaconda3\\envs\\model1\\lib\\site-packages\\tqdm\\auto.py:21: TqdmWarning: IProgress not found. Please update jupyter and ipywidgets. See https://ipywidgets.readthedocs.io/en/stable/user_install.html\n",
      "  from .autonotebook import tqdm as notebook_tqdm\n"
     ]
    },
    {
     "name": "stdout",
     "output_type": "stream",
     "text": [
      "Ray-tracing time in seconds: 0.19066095352172852\n"
     ]
    }
   ],
   "source": [
    "import time         # to measure ray tracing time\n",
    "import matplotlib.pyplot as plt\n",
    "from plotting_tools import plot_retardance_orientation\n",
    "from VolumeRaytraceLFM.abstract_classes import BackEnds\n",
    "from VolumeRaytraceLFM.birefringence_implementations import  (\n",
    "    BirefringentVolume,\n",
    "    BirefringentRaytraceLFM,\n",
    "    JonesMatrixGenerators\n",
    ")\n",
    "\n",
    "# Select backend method\n",
    "# backend = BackEnds.PYTORCH\n",
    "backend = BackEnds.NUMPY\n",
    "# if backend == BackEnds.PYTORCH:\n",
    "#     import torch\n",
    "#     torch.set_grad_enabled(False)\n",
    "\n",
    "\n",
    "# Get optical parameters template\n",
    "optical_info = BirefringentVolume.get_optical_info_template()\n",
    "# Alter some of the optical parameters\n",
    "optical_info['volume_shape'] = [15, 51, 51]\n",
    "optical_info['axial_voxel_size_um'] = 1.0\n",
    "optical_info['cube_voxels'] = True\n",
    "optical_info['pixels_per_ml'] = 17\n",
    "optical_info['n_micro_lenses'] = 5\n",
    "optical_info['n_voxels_per_ml'] = 1\n",
    "\n",
    "\n",
    "# # Plot azimuth\n",
    "# # azimuth_plot_type = 'lines'\n",
    "# azimuth_plot_type = 'hsv'\n",
    "\n",
    "# Create a Birefringent Raytracer!\n",
    "rays = BirefringentRaytraceLFM(backend=backend, optical_info=optical_info)\n",
    "\n",
    "# Compute the rays and use the Siddon's algorithm to compute the intersections with voxels.\n",
    "startTime = time.time()\n",
    "rays.compute_rays_geometry()\n",
    "executionTime = (time.time() - startTime)\n",
    "print('Ray-tracing time in seconds: ' + str(executionTime))"
   ]
  },
  {
   "attachments": {},
   "cell_type": "markdown",
   "metadata": {},
   "source": [
    "Load volume from a file"
   ]
  },
  {
   "cell_type": "code",
   "execution_count": 2,
   "metadata": {},
   "outputs": [],
   "source": [
    "loaded_volume = BirefringentVolume.init_from_file(\"objects/bundleX_SN.h5\", backend, optical_info)\n",
    "# loaded_volume = BirefringentVolume.init_from_file(\"objects/single_voxel.h5\", backend, optical_info)\n",
    "my_volume = loaded_volume"
   ]
  },
  {
   "cell_type": "code",
   "execution_count": 46,
   "metadata": {},
   "outputs": [
    {
     "name": "stdout",
     "output_type": "stream",
     "text": [
      "This is the format of your plot grid:\n",
      "[ (1,1) scene ]\n",
      "\n"
     ]
    },
    {
     "ename": "ValueError",
     "evalue": "Mime type rendering requires nbformat>=4.2.0 but it is not installed",
     "output_type": "error",
     "traceback": [
      "\u001b[1;31m---------------------------------------------------------------------------\u001b[0m",
      "\u001b[1;31mValueError\u001b[0m                                Traceback (most recent call last)",
      "Cell \u001b[1;32mIn[46], line 2\u001b[0m\n\u001b[0;32m      1\u001b[0m \u001b[39m# # Plot ray geometry\u001b[39;00m\n\u001b[1;32m----> 2\u001b[0m rays\u001b[39m.\u001b[39;49mplot_rays()\n",
      "File \u001b[1;32mc:\\Users\\gschl\\Documents\\Code2023-05\\forward-model\\VolumeRaytraceLFM\\abstract_classes.py:737\u001b[0m, in \u001b[0;36mRayTraceLFM.plot_rays\u001b[1;34m(self, colormap, use_matplotlib)\u001b[0m\n\u001b[0;32m    724\u001b[0m     fig\u001b[39m.\u001b[39mappend_trace(go\u001b[39m.\u001b[39mScatter3d(z\u001b[39m=\u001b[39mall_x, y\u001b[39m=\u001b[39mall_y, x\u001b[39m=\u001b[39mall_z,\n\u001b[0;32m    725\u001b[0m         marker\u001b[39m=\u001b[39m\u001b[39mdict\u001b[39m(color\u001b[39m=\u001b[39mrgba, colorscale\u001b[39m=\u001b[39mcolormap, size\u001b[39m=\u001b[39m\u001b[39m4\u001b[39m),\n\u001b[0;32m    726\u001b[0m         line\u001b[39m=\u001b[39m\u001b[39mdict\u001b[39m(color\u001b[39m=\u001b[39mrgba, colorscale\u001b[39m=\u001b[39mcolormap),\n\u001b[0;32m    727\u001b[0m         connectgaps\u001b[39m=\u001b[39m\u001b[39mFalse\u001b[39;00m, mode\u001b[39m=\u001b[39m\u001b[39m'\u001b[39m\u001b[39mlines+markers\u001b[39m\u001b[39m'\u001b[39m\n\u001b[0;32m    728\u001b[0m         ),\n\u001b[0;32m    729\u001b[0m         row\u001b[39m=\u001b[39m\u001b[39m1\u001b[39m, col\u001b[39m=\u001b[39m\u001b[39m1\u001b[39m)\n\u001b[0;32m    730\u001b[0m     fig\u001b[39m.\u001b[39mupdate_layout(\n\u001b[0;32m    731\u001b[0m     scene \u001b[39m=\u001b[39m \u001b[39mdict\u001b[39m(\n\u001b[0;32m    732\u001b[0m                 xaxis_title\u001b[39m=\u001b[39m\u001b[39m'\u001b[39m\u001b[39mAxial dimension\u001b[39m\u001b[39m'\u001b[39m,),\n\u001b[0;32m    733\u001b[0m     \u001b[39m# width=700,\u001b[39;00m\n\u001b[0;32m    734\u001b[0m     margin\u001b[39m=\u001b[39m\u001b[39mdict\u001b[39m(r\u001b[39m=\u001b[39m\u001b[39m0\u001b[39m, l\u001b[39m=\u001b[39m\u001b[39m0\u001b[39m, b\u001b[39m=\u001b[39m\u001b[39m0\u001b[39m, t\u001b[39m=\u001b[39m\u001b[39m0\u001b[39m)\n\u001b[0;32m    735\u001b[0m     )\n\u001b[1;32m--> 737\u001b[0m fig\u001b[39m.\u001b[39;49mshow()\n",
      "File \u001b[1;32mc:\\Users\\gschl\\anaconda3\\envs\\model1\\lib\\site-packages\\plotly\\basedatatypes.py:3390\u001b[0m, in \u001b[0;36mBaseFigure.show\u001b[1;34m(self, *args, **kwargs)\u001b[0m\n\u001b[0;32m   3357\u001b[0m \u001b[39m\u001b[39m\u001b[39m\"\"\"\u001b[39;00m\n\u001b[0;32m   3358\u001b[0m \u001b[39mShow a figure using either the default renderer(s) or the renderer(s)\u001b[39;00m\n\u001b[0;32m   3359\u001b[0m \u001b[39mspecified by the renderer argument\u001b[39;00m\n\u001b[1;32m   (...)\u001b[0m\n\u001b[0;32m   3386\u001b[0m \u001b[39mNone\u001b[39;00m\n\u001b[0;32m   3387\u001b[0m \u001b[39m\"\"\"\u001b[39;00m\n\u001b[0;32m   3388\u001b[0m \u001b[39mimport\u001b[39;00m \u001b[39mplotly\u001b[39;00m\u001b[39m.\u001b[39;00m\u001b[39mio\u001b[39;00m \u001b[39mas\u001b[39;00m \u001b[39mpio\u001b[39;00m\n\u001b[1;32m-> 3390\u001b[0m \u001b[39mreturn\u001b[39;00m pio\u001b[39m.\u001b[39mshow(\u001b[39mself\u001b[39m, \u001b[39m*\u001b[39margs, \u001b[39m*\u001b[39m\u001b[39m*\u001b[39mkwargs)\n",
      "File \u001b[1;32mc:\\Users\\gschl\\anaconda3\\envs\\model1\\lib\\site-packages\\plotly\\io\\_renderers.py:396\u001b[0m, in \u001b[0;36mshow\u001b[1;34m(fig, renderer, validate, **kwargs)\u001b[0m\n\u001b[0;32m    391\u001b[0m         \u001b[39mraise\u001b[39;00m \u001b[39mValueError\u001b[39;00m(\n\u001b[0;32m    392\u001b[0m             \u001b[39m\"\u001b[39m\u001b[39mMime type rendering requires ipython but it is not installed\u001b[39m\u001b[39m\"\u001b[39m\n\u001b[0;32m    393\u001b[0m         )\n\u001b[0;32m    395\u001b[0m     \u001b[39mif\u001b[39;00m \u001b[39mnot\u001b[39;00m nbformat \u001b[39mor\u001b[39;00m Version(nbformat\u001b[39m.\u001b[39m__version__) \u001b[39m<\u001b[39m Version(\u001b[39m\"\u001b[39m\u001b[39m4.2.0\u001b[39m\u001b[39m\"\u001b[39m):\n\u001b[1;32m--> 396\u001b[0m         \u001b[39mraise\u001b[39;00m \u001b[39mValueError\u001b[39;00m(\n\u001b[0;32m    397\u001b[0m             \u001b[39m\"\u001b[39m\u001b[39mMime type rendering requires nbformat>=4.2.0 but it is not installed\u001b[39m\u001b[39m\"\u001b[39m\n\u001b[0;32m    398\u001b[0m         )\n\u001b[0;32m    400\u001b[0m     ipython_display\u001b[39m.\u001b[39mdisplay(bundle, raw\u001b[39m=\u001b[39m\u001b[39mTrue\u001b[39;00m)\n\u001b[0;32m    402\u001b[0m \u001b[39m# external renderers\u001b[39;00m\n",
      "\u001b[1;31mValueError\u001b[0m: Mime type rendering requires nbformat>=4.2.0 but it is not installed"
     ]
    }
   ],
   "source": [
    "# # Plot ray geometry\n",
    "rays.plot_rays()"
   ]
  },
  {
   "cell_type": "code",
   "execution_count": 3,
   "metadata": {},
   "outputs": [
    {
     "name": "stderr",
     "output_type": "stream",
     "text": [
      "Computing rows of micro-lens ret+azim BackEnds.NUMPY: 100%|██████████| 5/5 [00:05<00:00,  1.10s/it]"
     ]
    },
    {
     "name": "stdout",
     "output_type": "stream",
     "text": [
      "Execution time in seconds with backend BackEnds.NUMPY: 5.499286651611328\n"
     ]
    },
    {
     "name": "stderr",
     "output_type": "stream",
     "text": [
      "\n"
     ]
    }
   ],
   "source": [
    "startTime = time.time()\n",
    "ret_image, azim_image = rays.ray_trace_through_volume(my_volume)\n",
    "executionTime = (time.time() - startTime)\n",
    "print(f'Execution time in seconds with backend {backend}: ' + str(executionTime))\n"
   ]
  },
  {
   "cell_type": "code",
   "execution_count": 7,
   "metadata": {},
   "outputs": [
    {
     "name": "stdout",
     "output_type": "stream",
     "text": [
      "Original Array (Delta_n):\n",
      " [[4 5]\n",
      " [7 8]]\n",
      "\n",
      "Mask (volume_shape):\n",
      " [[False  True]\n",
      " [False  True]]\n",
      "\n",
      "Subset Array (subset):\n",
      " [5 8]\n"
     ]
    },
    {
     "ename": "",
     "evalue": "",
     "output_type": "error",
     "traceback": [
      "\u001b[1;31mThe Kernel crashed while executing code in the the current cell or a previous cell. Please review the code in the cell(s) to identify a possible cause of the failure. Click <a href='https://aka.ms/vscodeJupyterKernelCrash'>here</a> for more info. View Jupyter <a href='command:jupyter.viewOutput'>log</a> for further details."
     ]
    }
   ],
   "source": [
    "import numpy as np\n",
    "\n",
    "# Assuming Delta_n is your 3D array and volume_shape is your mask array\n",
    "# Generate sample data for illustration purposes\n",
    "Delta_n = np.random.rand(5, 5, 5)\n",
    "volume_shape = np.random.choice([True, False], size=(5, 5, 5))\n",
    "Delta_n = np.array([[4, 5], [7,8]])\n",
    "mask = np.array([False, True])\n",
    "mask = np.array([[False, True], [False, True]])\n",
    "\n",
    "# Use Boolean indexing to create a new array with values from Delta_n where the mask is True\n",
    "# subset = Delta_n[volume_shape]\n",
    "subset = Delta_n[mask]\n",
    "\n",
    "# Print the original array, mask, and subset\n",
    "print(\"Original Array (Delta_n):\\n\", Delta_n)\n",
    "print(\"\\nMask (volume_shape):\\n\", mask)\n",
    "print(\"\\nSubset Array (subset):\\n\", subset)\n"
   ]
  },
  {
   "cell_type": "code",
   "execution_count": 2,
   "metadata": {},
   "outputs": [
    {
     "data": {
      "text/plain": [
       "(62,)"
      ]
     },
     "execution_count": 2,
     "metadata": {},
     "output_type": "execute_result"
    }
   ],
   "source": [
    "subset.shape"
   ]
  },
  {
   "cell_type": "code",
   "execution_count": null,
   "metadata": {},
   "outputs": [],
   "source": []
  }
 ],
 "metadata": {
  "kernelspec": {
   "display_name": "model1",
   "language": "python",
   "name": "python3"
  },
  "language_info": {
   "codemirror_mode": {
    "name": "ipython",
    "version": 3
   },
   "file_extension": ".py",
   "mimetype": "text/x-python",
   "name": "python",
   "nbconvert_exporter": "python",
   "pygments_lexer": "ipython3",
   "version": "3.10.11"
  },
  "orig_nbformat": 4
 },
 "nbformat": 4,
 "nbformat_minor": 2
}
